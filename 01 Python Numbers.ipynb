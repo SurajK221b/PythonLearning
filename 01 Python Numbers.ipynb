{
 "cells": [
  {
   "cell_type": "code",
   "execution_count": 1,
   "id": "250997b5",
   "metadata": {},
   "outputs": [
    {
     "name": "stdout",
     "output_type": "stream",
     "text": [
      "Integer: 10\n",
      "Float: 3.14\n",
      "Complex: (2+3j)\n",
      "Sum of a and b: 13.14\n",
      "Product of a and b: 31.400000000000002\n",
      "Division of a by b: 3.184713375796178\n",
      "Integer division of a by 3: 3\n",
      "Modulo of a by 3: 1\n",
      "a squared: 100\n"
     ]
    }
   ],
   "source": [
    "# Examples of using numbers in Python\n",
    "\n",
    "# Integer\n",
    "a = 10\n",
    "print(\"Integer:\", a)\n",
    "\n",
    "# Float\n",
    "b = 3.14\n",
    "print(\"Float:\", b)\n",
    "\n",
    "# Complex number\n",
    "c = 2 + 3j\n",
    "print(\"Complex:\", c)\n",
    "\n",
    "# Basic arithmetic\n",
    "sum_ab = a + b\n",
    "print(\"Sum of a and b:\", sum_ab)\n",
    "\n",
    "product = a * b\n",
    "print(\"Product of a and b:\", product)\n",
    "\n",
    "# Division\n",
    "division = a / b\n",
    "print(\"Division of a by b:\", division)\n",
    "\n",
    "# Integer division\n",
    "int_division = a // 3\n",
    "print(\"Integer division of a by 3:\", int_division)\n",
    "\n",
    "# Modulo\n",
    "modulo = a % 3\n",
    "print(\"Modulo of a by 3:\", modulo)\n",
    "\n",
    "# Exponentiation\n",
    "power = a ** 2\n",
    "print(\"a squared:\", power)"
   ]
  },
  {
   "cell_type": "code",
   "execution_count": 4,
   "id": "505823a7",
   "metadata": {},
   "outputs": [
    {
     "name": "stdout",
     "output_type": "stream",
     "text": [
      "Square root of a: 5.0\n"
     ]
    }
   ],
   "source": [
    "a = 25\n",
    "b = 80 \n",
    "a+b\n",
    "\n",
    "# Using math module for more complex operations\n",
    "import math\n",
    "sqrt_a = math.sqrt(a)\n",
    "print(\"Square root of a:\", sqrt_a)"
   ]
  },
  {
   "cell_type": "code",
   "execution_count": 7,
   "id": "d1a57f77",
   "metadata": {},
   "outputs": [
    {
     "name": "stdout",
     "output_type": "stream",
     "text": [
      "36\n",
      "46656\n"
     ]
    }
   ],
   "source": [
    "a = 6 * 6\n",
    "b = 6 ** 6\n",
    "print(a)\n",
    "print(b)\n"
   ]
  }
 ],
 "metadata": {
  "kernelspec": {
   "display_name": "base",
   "language": "python",
   "name": "python3"
  },
  "language_info": {
   "codemirror_mode": {
    "name": "ipython",
    "version": 3
   },
   "file_extension": ".py",
   "mimetype": "text/x-python",
   "name": "python",
   "nbconvert_exporter": "python",
   "pygments_lexer": "ipython3",
   "version": "3.13.5"
  }
 },
 "nbformat": 4,
 "nbformat_minor": 5
}
